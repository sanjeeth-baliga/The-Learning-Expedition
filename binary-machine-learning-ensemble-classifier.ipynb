{
 "cells": [
  {
   "cell_type": "markdown",
   "id": "b65e7fe5",
   "metadata": {
    "papermill": {
     "duration": 0.017507,
     "end_time": "2023-07-08T16:01:56.557701",
     "exception": false,
     "start_time": "2023-07-08T16:01:56.540194",
     "status": "completed"
    },
    "tags": []
   },
   "source": [
    "# Introduction"
   ]
  },
  {
   "cell_type": "markdown",
   "id": "89d7784f",
   "metadata": {
    "papermill": {
     "duration": 0.017285,
     "end_time": "2023-07-08T16:01:56.592264",
     "exception": false,
     "start_time": "2023-07-08T16:01:56.574979",
     "status": "completed"
    },
    "tags": []
   },
   "source": [
    "The code that follows deploys an ensemble learner comprising of a random forest classifier and a multi-layer neural network classifier to identify the likelihood of machine failures given a set of variable points associated with the machine and its environment\n",
    "\n",
    "This code was built and run within the kaggle ecosystem for the kaggle challenge named **Binary Classification of Machine Failures** (https://www.kaggle.com/competitions/playground-series-s3e17/overview). Also, a tabular learner neural network from the fastai library was used to train the dataset and validate the results.\n",
    "\n",
    "This approach is inspired from my learnings as a part of the fastai online training sessions"
   ]
  },
  {
   "cell_type": "markdown",
   "id": "56bca2b7",
   "metadata": {
    "papermill": {
     "duration": 0.016806,
     "end_time": "2023-07-08T16:01:56.626324",
     "exception": false,
     "start_time": "2023-07-08T16:01:56.609518",
     "status": "completed"
    },
    "tags": []
   },
   "source": [
    "# Data Ingestion and Quick Exploratory Analysis"
   ]
  },
  {
   "cell_type": "markdown",
   "id": "b6e1db1e",
   "metadata": {
    "papermill": {
     "duration": 0.016831,
     "end_time": "2023-07-08T16:01:56.660303",
     "exception": false,
     "start_time": "2023-07-08T16:01:56.643472",
     "status": "completed"
    },
    "tags": []
   },
   "source": [
    "1. What follows is a standard startup code snippet found across all Kaggle notebooks"
   ]
  },
  {
   "cell_type": "code",
   "execution_count": 1,
   "id": "7a8d0e8e",
   "metadata": {
    "_cell_guid": "b1076dfc-b9ad-4769-8c92-a6c4dae69d19",
    "_uuid": "8f2839f25d086af736a60e9eeb907d3b93b6e0e5",
    "execution": {
     "iopub.execute_input": "2023-07-08T16:01:56.697043Z",
     "iopub.status.busy": "2023-07-08T16:01:56.696295Z",
     "iopub.status.idle": "2023-07-08T16:01:56.711643Z",
     "shell.execute_reply": "2023-07-08T16:01:56.710413Z"
    },
    "papermill": {
     "duration": 0.036642,
     "end_time": "2023-07-08T16:01:56.714181",
     "exception": false,
     "start_time": "2023-07-08T16:01:56.677539",
     "status": "completed"
    },
    "tags": []
   },
   "outputs": [
    {
     "name": "stdout",
     "output_type": "stream",
     "text": [
      "/kaggle/input/playground-series-s3e17/sample_submission.csv\n",
      "/kaggle/input/playground-series-s3e17/train.csv\n",
      "/kaggle/input/playground-series-s3e17/test.csv\n"
     ]
    }
   ],
   "source": [
    "# This Python 3 environment comes with many helpful analytics libraries installed\n",
    "# It is defined by the kaggle/python Docker image: https://github.com/kaggle/docker-python\n",
    "# For example, here's several helpful packages to load\n",
    "\n",
    "import numpy as np # linear algebra\n",
    "import pandas as pd # data processing, CSV file I/O (e.g. pd.read_csv)\n",
    "\n",
    "# Input data files are available in the read-only \"../input/\" directory\n",
    "# For example, running this (by clicking run or pressing Shift+Enter) will list all files under the input directory\n",
    "\n",
    "import os\n",
    "for dirname, _, filenames in os.walk('/kaggle/input'):\n",
    "    for filename in filenames:\n",
    "        print(os.path.join(dirname, filename))\n",
    "\n",
    "# You can write up to 20GB to the current directory (/kaggle/working/) that gets preserved as output when you create a version using \"Save & Run All\" \n",
    "# You can also write temporary files to /kaggle/temp/, but they won't be saved outside of the current session"
   ]
  },
  {
   "cell_type": "markdown",
   "id": "b96de035",
   "metadata": {
    "papermill": {
     "duration": 0.017214,
     "end_time": "2023-07-08T16:01:56.748946",
     "exception": false,
     "start_time": "2023-07-08T16:01:56.731732",
     "status": "completed"
    },
    "tags": []
   },
   "source": [
    "2. Import all the required libraries. Please note the presence of fastai library in order to generate a neural network based tabular learner"
   ]
  },
  {
   "cell_type": "code",
   "execution_count": 2,
   "id": "3befb3c8",
   "metadata": {
    "execution": {
     "iopub.execute_input": "2023-07-08T16:01:56.786331Z",
     "iopub.status.busy": "2023-07-08T16:01:56.785353Z",
     "iopub.status.idle": "2023-07-08T16:02:02.427552Z",
     "shell.execute_reply": "2023-07-08T16:02:02.426654Z"
    },
    "papermill": {
     "duration": 5.663549,
     "end_time": "2023-07-08T16:02:02.430184",
     "exception": false,
     "start_time": "2023-07-08T16:01:56.766635",
     "status": "completed"
    },
    "tags": []
   },
   "outputs": [],
   "source": [
    "from pathlib import Path\n",
    "from sklearn.ensemble import RandomForestClassifier\n",
    "from fastai.tabular.all import *\n",
    "from sklearn.metrics import accuracy_score"
   ]
  },
  {
   "cell_type": "code",
   "execution_count": 3,
   "id": "0a84a6bd",
   "metadata": {
    "execution": {
     "iopub.execute_input": "2023-07-08T16:02:02.467662Z",
     "iopub.status.busy": "2023-07-08T16:02:02.466695Z",
     "iopub.status.idle": "2023-07-08T16:02:03.569938Z",
     "shell.execute_reply": "2023-07-08T16:02:03.568595Z"
    },
    "papermill": {
     "duration": 1.124767,
     "end_time": "2023-07-08T16:02:03.572588",
     "exception": false,
     "start_time": "2023-07-08T16:02:02.447821",
     "status": "completed"
    },
    "tags": []
   },
   "outputs": [
    {
     "name": "stdout",
     "output_type": "stream",
     "text": [
      "sample_submission.csv  test.csv  train.csv\r\n"
     ]
    }
   ],
   "source": [
    "path = Path('/kaggle/input/playground-series-s3e17')\n",
    "! ls {path}"
   ]
  },
  {
   "cell_type": "markdown",
   "id": "afddece5",
   "metadata": {
    "papermill": {
     "duration": 0.017879,
     "end_time": "2023-07-08T16:02:03.608534",
     "exception": false,
     "start_time": "2023-07-08T16:02:03.590655",
     "status": "completed"
    },
    "tags": []
   },
   "source": [
    "3. Read the training and test data sets along with capturing a quick snapshot of the value distribution across different predictors"
   ]
  },
  {
   "cell_type": "code",
   "execution_count": 4,
   "id": "e57f7746",
   "metadata": {
    "execution": {
     "iopub.execute_input": "2023-07-08T16:02:03.655630Z",
     "iopub.status.busy": "2023-07-08T16:02:03.654651Z",
     "iopub.status.idle": "2023-07-08T16:02:04.301613Z",
     "shell.execute_reply": "2023-07-08T16:02:04.300507Z"
    },
    "papermill": {
     "duration": 0.674483,
     "end_time": "2023-07-08T16:02:04.303990",
     "exception": false,
     "start_time": "2023-07-08T16:02:03.629507",
     "status": "completed"
    },
    "tags": []
   },
   "outputs": [
    {
     "data": {
      "text/plain": [
       "id                         136429\n",
       "Product ID                   9976\n",
       "Type                            3\n",
       "Air temperature [K]            95\n",
       "Process temperature [K]        81\n",
       "Rotational speed [rpm]        952\n",
       "Torque [Nm]                   611\n",
       "Tool wear [min]               246\n",
       "Machine failure                 2\n",
       "TWF                             2\n",
       "HDF                             2\n",
       "PWF                             2\n",
       "OSF                             2\n",
       "RNF                             2\n",
       "dtype: int64"
      ]
     },
     "execution_count": 4,
     "metadata": {},
     "output_type": "execute_result"
    }
   ],
   "source": [
    "train_df = pd.read_csv(path/'train.csv',low_memory=False)\n",
    "test_df = pd.read_csv(path/'test.csv',low_memory=False)\n",
    "train_df.nunique()"
   ]
  },
  {
   "cell_type": "markdown",
   "id": "b44d3d76",
   "metadata": {
    "papermill": {
     "duration": 0.017773,
     "end_time": "2023-07-08T16:02:04.339248",
     "exception": false,
     "start_time": "2023-07-08T16:02:04.321475",
     "status": "completed"
    },
    "tags": []
   },
   "source": [
    "4. Detect the presence of missing entries or NaNs amongst the predictor variables"
   ]
  },
  {
   "cell_type": "code",
   "execution_count": 5,
   "id": "eb216ce8",
   "metadata": {
    "execution": {
     "iopub.execute_input": "2023-07-08T16:02:04.377739Z",
     "iopub.status.busy": "2023-07-08T16:02:04.376746Z",
     "iopub.status.idle": "2023-07-08T16:02:04.534348Z",
     "shell.execute_reply": "2023-07-08T16:02:04.533035Z"
    },
    "papermill": {
     "duration": 0.179643,
     "end_time": "2023-07-08T16:02:04.537062",
     "exception": false,
     "start_time": "2023-07-08T16:02:04.357419",
     "status": "completed"
    },
    "tags": []
   },
   "outputs": [
    {
     "data": {
      "text/plain": [
       "id                         0\n",
       "Product ID                 0\n",
       "Type                       0\n",
       "Air temperature [K]        0\n",
       "Process temperature [K]    0\n",
       "Rotational speed [rpm]     0\n",
       "Torque [Nm]                0\n",
       "Tool wear [min]            0\n",
       "TWF                        0\n",
       "HDF                        0\n",
       "PWF                        0\n",
       "OSF                        0\n",
       "RNF                        0\n",
       "dtype: int64"
      ]
     },
     "execution_count": 5,
     "metadata": {},
     "output_type": "execute_result"
    }
   ],
   "source": [
    "train_df.isna().sum()\n",
    "test_df.isna().sum()"
   ]
  },
  {
   "cell_type": "markdown",
   "id": "b6d9d731",
   "metadata": {
    "papermill": {
     "duration": 0.017447,
     "end_time": "2023-07-08T16:02:04.572347",
     "exception": false,
     "start_time": "2023-07-08T16:02:04.554900",
     "status": "completed"
    },
    "tags": []
   },
   "source": [
    "The predictor space is fairly clean at this point in time given there are no missing entries"
   ]
  },
  {
   "cell_type": "markdown",
   "id": "8b6a3bbc",
   "metadata": {
    "papermill": {
     "duration": 0.017366,
     "end_time": "2023-07-08T16:02:04.607498",
     "exception": false,
     "start_time": "2023-07-08T16:02:04.590132",
     "status": "completed"
    },
    "tags": []
   },
   "source": [
    "5. The id predictor can be discarded from both the training and test sets as it just represents a unique id for each instance"
   ]
  },
  {
   "cell_type": "code",
   "execution_count": 6,
   "id": "a9af1f4d",
   "metadata": {
    "execution": {
     "iopub.execute_input": "2023-07-08T16:02:04.645491Z",
     "iopub.status.busy": "2023-07-08T16:02:04.645049Z",
     "iopub.status.idle": "2023-07-08T16:02:04.668807Z",
     "shell.execute_reply": "2023-07-08T16:02:04.667592Z"
    },
    "papermill": {
     "duration": 0.045941,
     "end_time": "2023-07-08T16:02:04.671575",
     "exception": false,
     "start_time": "2023-07-08T16:02:04.625634",
     "status": "completed"
    },
    "tags": []
   },
   "outputs": [],
   "source": [
    "train_df.drop('id',inplace=True,axis='columns')\n",
    "test_df.drop('id',inplace=True,axis='columns')"
   ]
  },
  {
   "cell_type": "markdown",
   "id": "a79f435e",
   "metadata": {
    "papermill": {
     "duration": 0.0174,
     "end_time": "2023-07-08T16:02:04.706940",
     "exception": false,
     "start_time": "2023-07-08T16:02:04.689540",
     "status": "completed"
    },
    "tags": []
   },
   "source": [
    "6. It is worthwhile to understand the performance of a null classifier which assumes the predicted class across all training instances to be the most frequently occuring class label"
   ]
  },
  {
   "cell_type": "code",
   "execution_count": 7,
   "id": "01c6a182",
   "metadata": {
    "execution": {
     "iopub.execute_input": "2023-07-08T16:02:04.744739Z",
     "iopub.status.busy": "2023-07-08T16:02:04.743912Z",
     "iopub.status.idle": "2023-07-08T16:02:04.752899Z",
     "shell.execute_reply": "2023-07-08T16:02:04.751630Z"
    },
    "papermill": {
     "duration": 0.030625,
     "end_time": "2023-07-08T16:02:04.755350",
     "exception": false,
     "start_time": "2023-07-08T16:02:04.724725",
     "status": "completed"
    },
    "tags": []
   },
   "outputs": [
    {
     "data": {
      "text/plain": [
       "0.9842555468412141"
      ]
     },
     "execution_count": 7,
     "metadata": {},
     "output_type": "execute_result"
    }
   ],
   "source": [
    "error_rate = train_df['Machine failure'].sum()/train_df['Machine failure'].shape[0]\n",
    "null_accuracy = 1- error_rate\n",
    "null_accuracy"
   ]
  },
  {
   "cell_type": "markdown",
   "id": "2f9a8c5d",
   "metadata": {
    "papermill": {
     "duration": 0.017942,
     "end_time": "2023-07-08T16:02:04.791294",
     "exception": false,
     "start_time": "2023-07-08T16:02:04.773352",
     "status": "completed"
    },
    "tags": []
   },
   "source": [
    "The misclassification error would only be 1.58% (98.4% accuracy) even with a null classifier.Hence, it can be seen that the distribution of class labels across the binary categories is unbalanced which requires adapting the training strategy to avoid the associated biases"
   ]
  },
  {
   "cell_type": "markdown",
   "id": "91b30b66",
   "metadata": {
    "papermill": {
     "duration": 0.017542,
     "end_time": "2023-07-08T16:02:04.826738",
     "exception": false,
     "start_time": "2023-07-08T16:02:04.809196",
     "status": "completed"
    },
    "tags": []
   },
   "source": [
    "# Feature Engineering"
   ]
  },
  {
   "cell_type": "markdown",
   "id": "2ef0cbd3",
   "metadata": {
    "papermill": {
     "duration": 0.017758,
     "end_time": "2023-07-08T16:02:04.862782",
     "exception": false,
     "start_time": "2023-07-08T16:02:04.845024",
     "status": "completed"
    },
    "tags": []
   },
   "source": [
    "1. On scrolling through the kaggle forums, the following features (predictors) wrapped in a function were engineered and added to the predictor space for helping improve the accuracy of predictions"
   ]
  },
  {
   "cell_type": "code",
   "execution_count": 8,
   "id": "8f4229bf",
   "metadata": {
    "execution": {
     "iopub.execute_input": "2023-07-08T16:02:04.901463Z",
     "iopub.status.busy": "2023-07-08T16:02:04.900447Z",
     "iopub.status.idle": "2023-07-08T16:02:04.913314Z",
     "shell.execute_reply": "2023-07-08T16:02:04.912084Z"
    },
    "papermill": {
     "duration": 0.035277,
     "end_time": "2023-07-08T16:02:04.915906",
     "exception": false,
     "start_time": "2023-07-08T16:02:04.880629",
     "status": "completed"
    },
    "tags": []
   },
   "outputs": [],
   "source": [
    "def add_new_features(df):\n",
    "    df['Temperature_difference [K]'] = df['Air temperature [K]'] - df['Process temperature [K]']\n",
    "    df['Torque_speed_ratio'] =  df['Torque [Nm]']/df['Rotational speed [rpm]']\n",
    "    df['Energy'] = df['Rotational speed [rpm]']*df['Torque [Nm]']\n",
    "    df['Wear_rate'] = df['Tool wear [min]'] / df['Rotational speed [rpm]']\n",
    "    return df\n",
    "\n",
    "train_df = add_new_features(train_df)"
   ]
  },
  {
   "cell_type": "markdown",
   "id": "6e0bb938",
   "metadata": {
    "papermill": {
     "duration": 0.017548,
     "end_time": "2023-07-08T16:02:04.951525",
     "exception": false,
     "start_time": "2023-07-08T16:02:04.933977",
     "status": "completed"
    },
    "tags": []
   },
   "source": [
    "It is a good practice to ensure that missing values are not introduced as NaNs when defining new predictors. On a quick check, it can be seen that irregularities are not introduced in the training data through addition of new predictors"
   ]
  },
  {
   "cell_type": "code",
   "execution_count": 9,
   "id": "99bbd504",
   "metadata": {
    "execution": {
     "iopub.execute_input": "2023-07-08T16:02:04.989573Z",
     "iopub.status.busy": "2023-07-08T16:02:04.989103Z",
     "iopub.status.idle": "2023-07-08T16:02:05.087564Z",
     "shell.execute_reply": "2023-07-08T16:02:05.086647Z"
    },
    "papermill": {
     "duration": 0.120205,
     "end_time": "2023-07-08T16:02:05.089897",
     "exception": false,
     "start_time": "2023-07-08T16:02:04.969692",
     "status": "completed"
    },
    "tags": []
   },
   "outputs": [
    {
     "data": {
      "text/plain": [
       "Product ID                    0\n",
       "Type                          0\n",
       "Air temperature [K]           0\n",
       "Process temperature [K]       0\n",
       "Rotational speed [rpm]        0\n",
       "Torque [Nm]                   0\n",
       "Tool wear [min]               0\n",
       "Machine failure               0\n",
       "TWF                           0\n",
       "HDF                           0\n",
       "PWF                           0\n",
       "OSF                           0\n",
       "RNF                           0\n",
       "Temperature_difference [K]    0\n",
       "Torque_speed_ratio            0\n",
       "Energy                        0\n",
       "Wear_rate                     0\n",
       "dtype: int64"
      ]
     },
     "execution_count": 9,
     "metadata": {},
     "output_type": "execute_result"
    }
   ],
   "source": [
    "train_df.isna().sum()"
   ]
  },
  {
   "cell_type": "markdown",
   "id": "b7878edf",
   "metadata": {
    "papermill": {
     "duration": 0.017648,
     "end_time": "2023-07-08T16:02:05.125649",
     "exception": false,
     "start_time": "2023-07-08T16:02:05.108001",
     "status": "completed"
    },
    "tags": []
   },
   "source": [
    "A similar test can be performed on the test data to ensure that missing values do not surface during feature engineering"
   ]
  },
  {
   "cell_type": "code",
   "execution_count": 10,
   "id": "8d063b49",
   "metadata": {
    "execution": {
     "iopub.execute_input": "2023-07-08T16:02:05.163880Z",
     "iopub.status.busy": "2023-07-08T16:02:05.163104Z",
     "iopub.status.idle": "2023-07-08T16:02:05.238754Z",
     "shell.execute_reply": "2023-07-08T16:02:05.237845Z"
    },
    "papermill": {
     "duration": 0.097794,
     "end_time": "2023-07-08T16:02:05.241319",
     "exception": false,
     "start_time": "2023-07-08T16:02:05.143525",
     "status": "completed"
    },
    "tags": []
   },
   "outputs": [
    {
     "data": {
      "text/plain": [
       "Product ID                    0\n",
       "Type                          0\n",
       "Air temperature [K]           0\n",
       "Process temperature [K]       0\n",
       "Rotational speed [rpm]        0\n",
       "Torque [Nm]                   0\n",
       "Tool wear [min]               0\n",
       "TWF                           0\n",
       "HDF                           0\n",
       "PWF                           0\n",
       "OSF                           0\n",
       "RNF                           0\n",
       "Temperature_difference [K]    0\n",
       "Torque_speed_ratio            0\n",
       "Energy                        0\n",
       "Wear_rate                     0\n",
       "dtype: int64"
      ]
     },
     "execution_count": 10,
     "metadata": {},
     "output_type": "execute_result"
    }
   ],
   "source": [
    "test_df = add_new_features(test_df)\n",
    "test_df.isna().sum()"
   ]
  },
  {
   "cell_type": "markdown",
   "id": "7b7c90c5",
   "metadata": {
    "papermill": {
     "duration": 0.018058,
     "end_time": "2023-07-08T16:02:05.278051",
     "exception": false,
     "start_time": "2023-07-08T16:02:05.259993",
     "status": "completed"
    },
    "tags": []
   },
   "source": [
    "2. Additional sanitization can be performed by eliminating duplicate entries from the training dataset"
   ]
  },
  {
   "cell_type": "code",
   "execution_count": 11,
   "id": "8e0ae6ed",
   "metadata": {
    "execution": {
     "iopub.execute_input": "2023-07-08T16:02:05.317319Z",
     "iopub.status.busy": "2023-07-08T16:02:05.316449Z",
     "iopub.status.idle": "2023-07-08T16:02:05.557008Z",
     "shell.execute_reply": "2023-07-08T16:02:05.555681Z"
    },
    "papermill": {
     "duration": 0.263369,
     "end_time": "2023-07-08T16:02:05.559749",
     "exception": false,
     "start_time": "2023-07-08T16:02:05.296380",
     "status": "completed"
    },
    "tags": []
   },
   "outputs": [],
   "source": [
    "dup_instances = train_df.duplicated()\n",
    "if dup_instances.value_counts()[1]>0: train_df.drop_duplicates(inplace=True)"
   ]
  },
  {
   "cell_type": "markdown",
   "id": "900d6875",
   "metadata": {
    "papermill": {
     "duration": 0.018033,
     "end_time": "2023-07-08T16:02:05.596169",
     "exception": false,
     "start_time": "2023-07-08T16:02:05.578136",
     "status": "completed"
    },
    "tags": []
   },
   "source": [
    "# Identifying Significant predictors through a random forest classifier"
   ]
  },
  {
   "cell_type": "markdown",
   "id": "150b8b9c",
   "metadata": {
    "papermill": {
     "duration": 0.019952,
     "end_time": "2023-07-08T16:02:05.634680",
     "exception": false,
     "start_time": "2023-07-08T16:02:05.614728",
     "status": "completed"
    },
    "tags": []
   },
   "source": [
    "This section involves creation of a tabular data structure using the fastai library and then extracting the training and validation sets from the structure for training a random forest classifier. The goal at this stage is not to predict the likelihood of machine failure, but to identify the top predictors in the predictor space in terms of association with the failure event"
   ]
  },
  {
   "cell_type": "markdown",
   "id": "3279de60",
   "metadata": {
    "papermill": {
     "duration": 0.017973,
     "end_time": "2023-07-08T16:02:05.671105",
     "exception": false,
     "start_time": "2023-07-08T16:02:05.653132",
     "status": "completed"
    },
    "tags": []
   },
   "source": [
    "1. The predictors are identified as being continuous vs. categorical as fastai tabular dataloader requires this piece of information. The cont_cat_split function from the fastai library is used for this purpose which results in the names of continuous predictors being stored in cont_names and the names of categorical predictors being stored in cat_names"
   ]
  },
  {
   "cell_type": "code",
   "execution_count": 12,
   "id": "10007f9a",
   "metadata": {
    "execution": {
     "iopub.execute_input": "2023-07-08T16:02:05.709806Z",
     "iopub.status.busy": "2023-07-08T16:02:05.708901Z",
     "iopub.status.idle": "2023-07-08T16:02:05.754456Z",
     "shell.execute_reply": "2023-07-08T16:02:05.753129Z"
    },
    "papermill": {
     "duration": 0.067924,
     "end_time": "2023-07-08T16:02:05.757275",
     "exception": false,
     "start_time": "2023-07-08T16:02:05.689351",
     "status": "completed"
    },
    "tags": []
   },
   "outputs": [],
   "source": [
    "dep_var = 'Machine failure'\n",
    "train_df['Product ID'] = train_df['Product ID'].astype('category')\n",
    "cont_names,cat_names = cont_cat_split(train_df,dep_var = dep_var)"
   ]
  },
  {
   "cell_type": "markdown",
   "id": "90f9639e",
   "metadata": {
    "execution": {
     "iopub.execute_input": "2023-06-18T14:51:43.561758Z",
     "iopub.status.busy": "2023-06-18T14:51:43.561370Z",
     "iopub.status.idle": "2023-06-18T14:51:43.569683Z",
     "shell.execute_reply": "2023-06-18T14:51:43.568357Z",
     "shell.execute_reply.started": "2023-06-18T14:51:43.561724Z"
    },
    "papermill": {
     "duration": 0.017868,
     "end_time": "2023-07-08T16:02:05.793461",
     "exception": false,
     "start_time": "2023-07-08T16:02:05.775593",
     "status": "completed"
    },
    "tags": []
   },
   "source": [
    "2. A tabular pandas object is created by leveraging the fastai library while subjecting the features to categorification. It should be noted that stratified sampling is used for achieving the split between the training and validation sets so that the ratio of failure and non-failure samples is consistent across the training and validation sets"
   ]
  },
  {
   "cell_type": "code",
   "execution_count": 13,
   "id": "f696a38a",
   "metadata": {
    "execution": {
     "iopub.execute_input": "2023-07-08T16:02:05.831614Z",
     "iopub.status.busy": "2023-07-08T16:02:05.831197Z",
     "iopub.status.idle": "2023-07-08T16:02:06.095470Z",
     "shell.execute_reply": "2023-07-08T16:02:06.094371Z"
    },
    "papermill": {
     "duration": 0.286595,
     "end_time": "2023-07-08T16:02:06.098188",
     "exception": false,
     "start_time": "2023-07-08T16:02:05.811593",
     "status": "completed"
    },
    "tags": []
   },
   "outputs": [],
   "source": [
    "tp = TabularPandas(train_df,procs=[Categorify],cont_names=cont_names,cat_names=cat_names,\n",
    "                   y_names=dep_var,\n",
    "                   splits=TrainTestSplitter(test_size=0.25,stratify=train_df[dep_var].to_list())(range_of(train_df)))"
   ]
  },
  {
   "cell_type": "markdown",
   "id": "0ef91441",
   "metadata": {
    "papermill": {
     "duration": 0.018739,
     "end_time": "2023-07-08T16:02:06.135367",
     "exception": false,
     "start_time": "2023-07-08T16:02:06.116628",
     "status": "completed"
    },
    "tags": []
   },
   "source": [
    "3. The training and validation data sets from the tabular pandas object are used to train a random forest classifier on the predictor space"
   ]
  },
  {
   "cell_type": "code",
   "execution_count": 14,
   "id": "42a208ac",
   "metadata": {
    "execution": {
     "iopub.execute_input": "2023-07-08T16:02:06.173834Z",
     "iopub.status.busy": "2023-07-08T16:02:06.173422Z",
     "iopub.status.idle": "2023-07-08T16:02:06.193838Z",
     "shell.execute_reply": "2023-07-08T16:02:06.192619Z"
    },
    "papermill": {
     "duration": 0.042884,
     "end_time": "2023-07-08T16:02:06.196512",
     "exception": false,
     "start_time": "2023-07-08T16:02:06.153628",
     "status": "completed"
    },
    "tags": []
   },
   "outputs": [],
   "source": [
    "train_x,train_y = tp.train.xs,tp.train.y\n",
    "valid_x,valid_y = tp.valid.xs,tp.valid.y"
   ]
  },
  {
   "cell_type": "markdown",
   "id": "21811255",
   "metadata": {
    "papermill": {
     "duration": 0.018047,
     "end_time": "2023-07-08T16:02:06.232874",
     "exception": false,
     "start_time": "2023-07-08T16:02:06.214827",
     "status": "completed"
    },
    "tags": []
   },
   "source": [
    "3. The model creation and training processes are wrapped in a function for reusability in the later sections. The **RandomForestClassifier class from the scikit-learn library** has been used here. It should be noted that the **'class weight' parameter is set to 'balanced'** so that the model does not get biased towards the excessive presence of non-failure class labels in the training set. The accuracy calculation is also wrapped in a function for reusability"
   ]
  },
  {
   "cell_type": "code",
   "execution_count": 15,
   "id": "15bf196f",
   "metadata": {
    "execution": {
     "iopub.execute_input": "2023-07-08T16:02:06.271184Z",
     "iopub.status.busy": "2023-07-08T16:02:06.270717Z",
     "iopub.status.idle": "2023-07-08T16:02:06.277606Z",
     "shell.execute_reply": "2023-07-08T16:02:06.276480Z"
    },
    "papermill": {
     "duration": 0.029028,
     "end_time": "2023-07-08T16:02:06.280169",
     "exception": false,
     "start_time": "2023-07-08T16:02:06.251141",
     "status": "completed"
    },
    "tags": []
   },
   "outputs": [],
   "source": [
    "def rf(xs,y,n_estimators=200,min_samples_leaf=20,max_features='sqrt',max_samples=0.7):\n",
    "    return RandomForestClassifier(n_jobs=-1,n_estimators=n_estimators,max_features=max_features,max_samples=max_samples,\n",
    "                                  min_samples_leaf=min_samples_leaf,oob_score=True,class_weight='balanced').fit(xs,y)\n",
    "\n",
    "def m_accuracy(m,xs,y): return accuracy_score(y,m.predict(xs))"
   ]
  },
  {
   "cell_type": "markdown",
   "id": "351bb5f7",
   "metadata": {
    "papermill": {
     "duration": 0.017916,
     "end_time": "2023-07-08T16:02:06.316345",
     "exception": false,
     "start_time": "2023-07-08T16:02:06.298429",
     "status": "completed"
    },
    "tags": []
   },
   "source": [
    "4. The RandomForestClassifier is trained on the training data and the **performance is evaluated** based on **accuracy determined for the validation set and the out-of-bag training samples** corresponding to the decision tree ensemble"
   ]
  },
  {
   "cell_type": "code",
   "execution_count": 16,
   "id": "977c34b7",
   "metadata": {
    "execution": {
     "iopub.execute_input": "2023-07-08T16:02:06.354296Z",
     "iopub.status.busy": "2023-07-08T16:02:06.353880Z",
     "iopub.status.idle": "2023-07-08T16:02:27.334350Z",
     "shell.execute_reply": "2023-07-08T16:02:27.333184Z"
    },
    "papermill": {
     "duration": 21.002391,
     "end_time": "2023-07-08T16:02:27.336797",
     "exception": false,
     "start_time": "2023-07-08T16:02:06.334406",
     "status": "completed"
    },
    "tags": []
   },
   "outputs": [
    {
     "name": "stdout",
     "output_type": "stream",
     "text": [
      "Accuracy:0.9872280037842952,OOB estimation score:0.9866267209350454\n"
     ]
    }
   ],
   "source": [
    "m = rf(train_x,train_y)\n",
    "print(f'Accuracy:{m_accuracy(m,valid_x,valid_y)},OOB estimation score:{m.oob_score_}')"
   ]
  },
  {
   "cell_type": "markdown",
   "id": "dac073b1",
   "metadata": {
    "papermill": {
     "duration": 0.01835,
     "end_time": "2023-07-08T16:02:27.373930",
     "exception": false,
     "start_time": "2023-07-08T16:02:27.355580",
     "status": "completed"
    },
    "tags": []
   },
   "source": [
    "It can be seen that the random forest model generates a higher accuracy compared to a null classifier. **Filtering out the weaker predictors** can **reduce model overfitting** and further improve the prediction accuracy"
   ]
  },
  {
   "cell_type": "markdown",
   "id": "53c20f18",
   "metadata": {
    "papermill": {
     "duration": 0.018071,
     "end_time": "2023-07-08T16:02:27.411009",
     "exception": false,
     "start_time": "2023-07-08T16:02:27.392938",
     "status": "completed"
    },
    "tags": []
   },
   "source": [
    "5. The **importance score** associated with each predictor can be identified using the **imp_scores function** post which the predictors with the least importance scores can be filtered out"
   ]
  },
  {
   "cell_type": "code",
   "execution_count": 17,
   "id": "9ef9ab81",
   "metadata": {
    "execution": {
     "iopub.execute_input": "2023-07-08T16:02:27.450536Z",
     "iopub.status.busy": "2023-07-08T16:02:27.449796Z",
     "iopub.status.idle": "2023-07-08T16:02:28.029876Z",
     "shell.execute_reply": "2023-07-08T16:02:28.028731Z"
    },
    "papermill": {
     "duration": 0.602924,
     "end_time": "2023-07-08T16:02:28.032381",
     "exception": false,
     "start_time": "2023-07-08T16:02:27.429457",
     "status": "completed"
    },
    "tags": []
   },
   "outputs": [
    {
     "data": {
      "text/plain": [
       "<Axes: xlabel='features', ylabel='importance score'>"
      ]
     },
     "execution_count": 17,
     "metadata": {},
     "output_type": "execute_result"
    },
    {
     "data": {
      "image/png": "[encoded data removed]",
      "text/plain": [
       "<Figure size 1000x1000 with 1 Axes>"
      ]
     },
     "metadata": {},
     "output_type": "display_data"
    }
   ],
   "source": [
    "def imp_scores(df,m):\n",
    "    return pd.DataFrame({'col':df.columns,'imp score':m.feature_importances_}).sort_values('imp score',ascending=False)\n",
    "\n",
    "importance = imp_scores(train_x,m)\n",
    "importance.plot('col','imp score','barh',xlabel='features',ylabel='importance score',legend=False,figsize=(10,10))"
   ]
  },
  {
   "cell_type": "code",
   "execution_count": 18,
   "id": "8f736765",
   "metadata": {
    "execution": {
     "iopub.execute_input": "2023-07-08T16:02:28.072995Z",
     "iopub.status.busy": "2023-07-08T16:02:28.072584Z",
     "iopub.status.idle": "2023-07-08T16:02:28.096287Z",
     "shell.execute_reply": "2023-07-08T16:02:28.095421Z"
    },
    "papermill": {
     "duration": 0.046865,
     "end_time": "2023-07-08T16:02:28.098551",
     "exception": false,
     "start_time": "2023-07-08T16:02:28.051686",
     "status": "completed"
    },
    "tags": []
   },
   "outputs": [
    {
     "data": {
      "text/html": [
       "<div>\n",
       "<style scoped>\n",
       "    .dataframe tbody tr th:only-of-type {\n",
       "        vertical-align: middle;\n",
       "    }\n",
       "\n",
       "    .dataframe tbody tr th {\n",
       "        vertical-align: top;\n",
       "    }\n",
       "\n",
       "    .dataframe thead th {\n",
       "        text-align: right;\n",
       "    }\n",
       "</style>\n",
       "<table border=\"1\" class=\"dataframe\">\n",
       "  <thead>\n",
       "    <tr style=\"text-align: right;\">\n",
       "      <th></th>\n",
       "      <th>col</th>\n",
       "      <th>imp score</th>\n",
       "    </tr>\n",
       "  </thead>\n",
       "  <tbody>\n",
       "    <tr>\n",
       "      <th>9</th>\n",
       "      <td>Rotational speed [rpm]</td>\n",
       "      <td>0.193740</td>\n",
       "    </tr>\n",
       "    <tr>\n",
       "      <th>13</th>\n",
       "      <td>Torque_speed_ratio</td>\n",
       "      <td>0.128922</td>\n",
       "    </tr>\n",
       "    <tr>\n",
       "      <th>10</th>\n",
       "      <td>Torque [Nm]</td>\n",
       "      <td>0.120280</td>\n",
       "    </tr>\n",
       "    <tr>\n",
       "      <th>14</th>\n",
       "      <td>Energy</td>\n",
       "      <td>0.078598</td>\n",
       "    </tr>\n",
       "    <tr>\n",
       "      <th>11</th>\n",
       "      <td>Tool wear [min]</td>\n",
       "      <td>0.065192</td>\n",
       "    </tr>\n",
       "    <tr>\n",
       "      <th>3</th>\n",
       "      <td>HDF</td>\n",
       "      <td>0.063346</td>\n",
       "    </tr>\n",
       "    <tr>\n",
       "      <th>15</th>\n",
       "      <td>Wear_rate</td>\n",
       "      <td>0.061876</td>\n",
       "    </tr>\n",
       "    <tr>\n",
       "      <th>12</th>\n",
       "      <td>Temperature_difference [K]</td>\n",
       "      <td>0.059309</td>\n",
       "    </tr>\n",
       "    <tr>\n",
       "      <th>5</th>\n",
       "      <td>OSF</td>\n",
       "      <td>0.051015</td>\n",
       "    </tr>\n",
       "    <tr>\n",
       "      <th>2</th>\n",
       "      <td>TWF</td>\n",
       "      <td>0.049739</td>\n",
       "    </tr>\n",
       "    <tr>\n",
       "      <th>4</th>\n",
       "      <td>PWF</td>\n",
       "      <td>0.035796</td>\n",
       "    </tr>\n",
       "    <tr>\n",
       "      <th>7</th>\n",
       "      <td>Air temperature [K]</td>\n",
       "      <td>0.033816</td>\n",
       "    </tr>\n",
       "    <tr>\n",
       "      <th>0</th>\n",
       "      <td>Product ID</td>\n",
       "      <td>0.032152</td>\n",
       "    </tr>\n",
       "    <tr>\n",
       "      <th>8</th>\n",
       "      <td>Process temperature [K]</td>\n",
       "      <td>0.023285</td>\n",
       "    </tr>\n",
       "    <tr>\n",
       "      <th>1</th>\n",
       "      <td>Type</td>\n",
       "      <td>0.002839</td>\n",
       "    </tr>\n",
       "    <tr>\n",
       "      <th>6</th>\n",
       "      <td>RNF</td>\n",
       "      <td>0.000095</td>\n",
       "    </tr>\n",
       "  </tbody>\n",
       "</table>\n",
       "</div>"
      ],
      "text/plain": [
       "                           col  imp score\n",
       "9       Rotational speed [rpm]   0.193740\n",
       "13          Torque_speed_ratio   0.128922\n",
       "10                 Torque [Nm]   0.120280\n",
       "14                      Energy   0.078598\n",
       "11             Tool wear [min]   0.065192\n",
       "3                          HDF   0.063346\n",
       "15                   Wear_rate   0.061876\n",
       "12  Temperature_difference [K]   0.059309\n",
       "5                          OSF   0.051015\n",
       "2                          TWF   0.049739\n",
       "4                          PWF   0.035796\n",
       "7          Air temperature [K]   0.033816\n",
       "0                   Product ID   0.032152\n",
       "8      Process temperature [K]   0.023285\n",
       "1                         Type   0.002839\n",
       "6                          RNF   0.000095"
      ]
     },
     "execution_count": 18,
     "metadata": {},
     "output_type": "execute_result"
    }
   ],
   "source": [
    "importance"
   ]
  },
  {
   "cell_type": "markdown",
   "id": "dce2b1a5",
   "metadata": {
    "papermill": {
     "duration": 0.019027,
     "end_time": "2023-07-08T16:02:28.137274",
     "exception": false,
     "start_time": "2023-07-08T16:02:28.118247",
     "status": "completed"
    },
    "tags": []
   },
   "source": [
    "6. The predictors with importance score of >0.03 could be retained for future model fitting which will result in selection of ~top 80 %ile of predictors to reduce the possibility of overfitting"
   ]
  },
  {
   "cell_type": "code",
   "execution_count": 19,
   "id": "0ed0a68f",
   "metadata": {
    "execution": {
     "iopub.execute_input": "2023-07-08T16:02:28.178595Z",
     "iopub.status.busy": "2023-07-08T16:02:28.177447Z",
     "iopub.status.idle": "2023-07-08T16:02:28.186491Z",
     "shell.execute_reply": "2023-07-08T16:02:28.185366Z"
    },
    "papermill": {
     "duration": 0.032207,
     "end_time": "2023-07-08T16:02:28.188814",
     "exception": false,
     "start_time": "2023-07-08T16:02:28.156607",
     "status": "completed"
    },
    "tags": []
   },
   "outputs": [
    {
     "data": {
      "text/plain": [
       "['Rotational speed [rpm]',\n",
       " 'Torque_speed_ratio',\n",
       " 'Torque [Nm]',\n",
       " 'Energy',\n",
       " 'Tool wear [min]',\n",
       " 'HDF',\n",
       " 'Wear_rate',\n",
       " 'Temperature_difference [K]',\n",
       " 'OSF',\n",
       " 'TWF',\n",
       " 'PWF',\n",
       " 'Air temperature [K]',\n",
       " 'Product ID']"
      ]
     },
     "execution_count": 19,
     "metadata": {},
     "output_type": "execute_result"
    }
   ],
   "source": [
    "best_predictors = importance[importance['imp score']>0.03].col.to_list()\n",
    "best_predictors"
   ]
  },
  {
   "cell_type": "markdown",
   "id": "485ac065",
   "metadata": {
    "papermill": {
     "duration": 0.019426,
     "end_time": "2023-07-08T16:02:28.228479",
     "exception": false,
     "start_time": "2023-07-08T16:02:28.209053",
     "status": "completed"
    },
    "tags": []
   },
   "source": [
    "# Random Forest Classifier prediction on the selected best predictors"
   ]
  },
  {
   "cell_type": "markdown",
   "id": "cc3271a1",
   "metadata": {
    "execution": {
     "iopub.execute_input": "2023-06-18T17:23:32.235708Z",
     "iopub.status.busy": "2023-06-18T17:23:32.235286Z",
     "iopub.status.idle": "2023-06-18T17:23:32.243607Z",
     "shell.execute_reply": "2023-06-18T17:23:32.242348Z",
     "shell.execute_reply.started": "2023-06-18T17:23:32.235675Z"
    },
    "papermill": {
     "duration": 0.019581,
     "end_time": "2023-07-08T16:02:28.267810",
     "exception": false,
     "start_time": "2023-07-08T16:02:28.248229",
     "status": "completed"
    },
    "tags": []
   },
   "source": [
    "1. Identify validation set prediction accuracy and out-of-bag prediction accuracy with the random forest classifier trained on a predictor space consisting of only the best predictors identified in the previous section"
   ]
  },
  {
   "cell_type": "code",
   "execution_count": 20,
   "id": "5f41be32",
   "metadata": {
    "execution": {
     "iopub.execute_input": "2023-07-08T16:02:28.310322Z",
     "iopub.status.busy": "2023-07-08T16:02:28.309627Z",
     "iopub.status.idle": "2023-07-08T16:02:46.042321Z",
     "shell.execute_reply": "2023-07-08T16:02:46.040210Z"
    },
    "papermill": {
     "duration": 17.756513,
     "end_time": "2023-07-08T16:02:46.044843",
     "exception": false,
     "start_time": "2023-07-08T16:02:28.288330",
     "status": "completed"
    },
    "tags": []
   },
   "outputs": [
    {
     "name": "stdout",
     "output_type": "stream",
     "text": [
      "Accuracy:0.9861636707663197,OOB estimation score:0.9859073035645652\n"
     ]
    }
   ],
   "source": [
    "train_x_best, valid_x_best = tp.train.xs[best_predictors],tp.valid.xs[best_predictors]\n",
    "m_best_pred = rf(train_x_best,train_y)\n",
    "print(f'Accuracy:{m_accuracy(m_best_pred,valid_x_best,valid_y)},OOB estimation score:{m_best_pred.oob_score_}')"
   ]
  },
  {
   "cell_type": "markdown",
   "id": "6d07d05f",
   "metadata": {
    "papermill": {
     "duration": 0.019485,
     "end_time": "2023-07-08T16:02:46.084169",
     "exception": false,
     "start_time": "2023-07-08T16:02:46.064684",
     "status": "completed"
    },
    "tags": []
   },
   "source": [
    "The classification accuracy more or less stays the same as that of the full predictor space,hence the best predictors determined in the previous section can be used in the training iterations henceforth to foreclose any possibility of model overfitting"
   ]
  },
  {
   "cell_type": "markdown",
   "id": "02077b2c",
   "metadata": {
    "papermill": {
     "duration": 0.019455,
     "end_time": "2023-07-08T16:02:46.123941",
     "exception": false,
     "start_time": "2023-07-08T16:02:46.104486",
     "status": "completed"
    },
    "tags": []
   },
   "source": [
    "# Neural network classifier prediction on the selected best predictors"
   ]
  },
  {
   "cell_type": "markdown",
   "id": "c240d969",
   "metadata": {
    "papermill": {
     "duration": 0.019263,
     "end_time": "2023-07-08T16:02:46.162824",
     "exception": false,
     "start_time": "2023-07-08T16:02:46.143561",
     "status": "completed"
    },
    "tags": []
   },
   "source": [
    "1. A separate set of **training and validation datasets consisting of only identified best predictors** from the previous sections could be used to train a **neural network classifier**. The continuous and categorical columns can be extracted at this step as well"
   ]
  },
  {
   "cell_type": "code",
   "execution_count": 21,
   "id": "e9115218",
   "metadata": {
    "execution": {
     "iopub.execute_input": "2023-07-08T16:02:46.204233Z",
     "iopub.status.busy": "2023-07-08T16:02:46.203453Z",
     "iopub.status.idle": "2023-07-08T16:02:46.236465Z",
     "shell.execute_reply": "2023-07-08T16:02:46.235383Z"
    },
    "papermill": {
     "duration": 0.056586,
     "end_time": "2023-07-08T16:02:46.239147",
     "exception": false,
     "start_time": "2023-07-08T16:02:46.182561",
     "status": "completed"
    },
    "tags": []
   },
   "outputs": [],
   "source": [
    "dep_var_nn = 'Machine failure'\n",
    "train_df_nn, test_df_nn = train_df[best_predictors+[dep_var_nn]],test_df[best_predictors]\n",
    "cont_nn,cat_nn = cont_cat_split(train_df_nn,dep_var=dep_var_nn)"
   ]
  },
  {
   "cell_type": "markdown",
   "id": "74a0d8b4",
   "metadata": {
    "papermill": {
     "duration": 0.019314,
     "end_time": "2023-07-08T16:02:46.278420",
     "exception": false,
     "start_time": "2023-07-08T16:02:46.259106",
     "status": "completed"
    },
    "tags": []
   },
   "source": [
    "2. A **tabular dataloader** to feed the training and validation data into a fastai neural network learner can be created at this stage from a tabular pandas object that was used earlier. A couple of quick callouts here:\n",
    "    * The **predictors should be subjected to normalization** for training a neural network as the model is sensitive to the relative scale variation across predictors\n",
    "    * A **batch of 1024** has been selected for each training step of the neural network in an epoch"
   ]
  },
  {
   "cell_type": "code",
   "execution_count": 22,
   "id": "4a6b8291",
   "metadata": {
    "execution": {
     "iopub.execute_input": "2023-07-08T16:02:46.319788Z",
     "iopub.status.busy": "2023-07-08T16:02:46.319041Z",
     "iopub.status.idle": "2023-07-08T16:02:46.679276Z",
     "shell.execute_reply": "2023-07-08T16:02:46.678063Z"
    },
    "papermill": {
     "duration": 0.384261,
     "end_time": "2023-07-08T16:02:46.682223",
     "exception": false,
     "start_time": "2023-07-08T16:02:46.297962",
     "status": "completed"
    },
    "tags": []
   },
   "outputs": [
    {
     "data": {
      "text/html": [
       "<table border=\"1\" class=\"dataframe\">\n",
       "  <thead>\n",
       "    <tr style=\"text-align: right;\">\n",
       "      <th></th>\n",
       "      <th>HDF</th>\n",
       "      <th>OSF</th>\n",
       "      <th>TWF</th>\n",
       "      <th>PWF</th>\n",
       "      <th>Product ID</th>\n",
       "      <th>Rotational speed [rpm]</th>\n",
       "      <th>Torque_speed_ratio</th>\n",
       "      <th>Torque [Nm]</th>\n",
       "      <th>Energy</th>\n",
       "      <th>Tool wear [min]</th>\n",
       "      <th>Wear_rate</th>\n",
       "      <th>Temperature_difference [K]</th>\n",
       "      <th>Air temperature [K]</th>\n",
       "      <th>Machine failure</th>\n",
       "    </tr>\n",
       "  </thead>\n",
       "  <tbody>\n",
       "    <tr>\n",
       "      <th>112162</th>\n",
       "      <td>0</td>\n",
       "      <td>0</td>\n",
       "      <td>0</td>\n",
       "      <td>0</td>\n",
       "      <td>L47499</td>\n",
       "      <td>1426.0</td>\n",
       "      <td>0.031767</td>\n",
       "      <td>45.299999</td>\n",
       "      <td>64597.800781</td>\n",
       "      <td>183.0</td>\n",
       "      <td>0.128331</td>\n",
       "      <td>-10.6</td>\n",
       "      <td>297.799988</td>\n",
       "      <td>0</td>\n",
       "    </tr>\n",
       "    <tr>\n",
       "      <th>101370</th>\n",
       "      <td>0</td>\n",
       "      <td>0</td>\n",
       "      <td>0</td>\n",
       "      <td>0</td>\n",
       "      <td>L51620</td>\n",
       "      <td>1568.0</td>\n",
       "      <td>0.023151</td>\n",
       "      <td>36.299999</td>\n",
       "      <td>56918.398438</td>\n",
       "      <td>171.0</td>\n",
       "      <td>0.109056</td>\n",
       "      <td>-7.8</td>\n",
       "      <td>302.500000</td>\n",
       "      <td>0</td>\n",
       "    </tr>\n",
       "    <tr>\n",
       "      <th>73072</th>\n",
       "      <td>0</td>\n",
       "      <td>0</td>\n",
       "      <td>0</td>\n",
       "      <td>0</td>\n",
       "      <td>L47513</td>\n",
       "      <td>1350.0</td>\n",
       "      <td>0.038815</td>\n",
       "      <td>52.400002</td>\n",
       "      <td>70740.000000</td>\n",
       "      <td>3.0</td>\n",
       "      <td>0.002222</td>\n",
       "      <td>-10.7</td>\n",
       "      <td>297.500000</td>\n",
       "      <td>0</td>\n",
       "    </tr>\n",
       "  </tbody>\n",
       "</table>"
      ],
      "text/plain": [
       "<IPython.core.display.HTML object>"
      ]
     },
     "metadata": {},
     "output_type": "display_data"
    }
   ],
   "source": [
    "tp_dl = TabularPandas(train_df_nn,procs=[Categorify,Normalize],cont_names = cont_nn,cat_names=cat_nn,y_names=dep_var_nn,\n",
    "                     splits=TrainTestSplitter(test_size=0.25,stratify=train_df_nn[dep_var].to_list())(range_of(train_df_nn)),\n",
    "                      y_block=CategoryBlock()).dataloaders(bs=1024,path=\".\")\n",
    "tp_dl.show(3)"
   ]
  },
  {
   "cell_type": "markdown",
   "id": "5466b9e3",
   "metadata": {
    "papermill": {
     "duration": 0.02039,
     "end_time": "2023-07-08T16:02:46.723572",
     "exception": false,
     "start_time": "2023-07-08T16:02:46.703182",
     "status": "completed"
    },
    "tags": []
   },
   "source": [
    "3. A tabular learner built using fastai library can set up the neural network architecture for fine tuning to the task of machine failure likelihood prediction. The layers argument can be experimented with further to achieve higher accuracy on the validation set"
   ]
  },
  {
   "cell_type": "code",
   "execution_count": 23,
   "id": "14a982d7",
   "metadata": {
    "execution": {
     "iopub.execute_input": "2023-07-08T16:02:46.765750Z",
     "iopub.status.busy": "2023-07-08T16:02:46.764534Z",
     "iopub.status.idle": "2023-07-08T16:02:46.883296Z",
     "shell.execute_reply": "2023-07-08T16:02:46.882446Z"
    },
    "papermill": {
     "duration": 0.14266,
     "end_time": "2023-07-08T16:02:46.886104",
     "exception": false,
     "start_time": "2023-07-08T16:02:46.743444",
     "status": "completed"
    },
    "tags": []
   },
   "outputs": [],
   "source": [
    "learner = tabular_learner(tp_dl,layers=[256,128],metrics=accuracy)"
   ]
  },
  {
   "cell_type": "markdown",
   "id": "6e5c4bff",
   "metadata": {
    "papermill": {
     "duration": 0.019678,
     "end_time": "2023-07-08T16:02:46.926057",
     "exception": false,
     "start_time": "2023-07-08T16:02:46.906379",
     "status": "completed"
    },
    "tags": []
   },
   "source": [
    "4. The fastai library has a function through which the learning rate can be determined for the various training steps"
   ]
  },
  {
   "cell_type": "code",
   "execution_count": 24,
   "id": "d8642d0a",
   "metadata": {
    "execution": {
     "iopub.execute_input": "2023-07-08T16:02:46.968003Z",
     "iopub.status.busy": "2023-07-08T16:02:46.967356Z",
     "iopub.status.idle": "2023-07-08T16:02:52.852806Z",
     "shell.execute_reply": "2023-07-08T16:02:52.851449Z"
    },
    "papermill": {
     "duration": 5.909545,
     "end_time": "2023-07-08T16:02:52.855453",
     "exception": false,
     "start_time": "2023-07-08T16:02:46.945908",
     "status": "completed"
    },
    "tags": []
   },
   "outputs": [
    {
     "data": {
      "text/html": [
       "\n",
       "<style>\n",
       "    /* Turns off some styling */\n",
       "    progress {\n",
       "        /* gets rid of default border in Firefox and Opera. */\n",
       "        border: none;\n",
       "        /* Needs to be in here for Safari polyfill so background images work as expected. */\n",
       "        background-size: auto;\n",
       "    }\n",
       "    progress:not([value]), progress:not([value])::-webkit-progress-bar {\n",
       "        background: repeating-linear-gradient(45deg, #7e7e7e, #7e7e7e 10px, #5c5c5c 10px, #5c5c5c 20px);\n",
       "    }\n",
       "    .progress-bar-interrupted, .progress-bar-interrupted::-webkit-progress-bar {\n",
       "        background: #F44336;\n",
       "    }\n",
       "</style>\n"
      ],
      "text/plain": [
       "<IPython.core.display.HTML object>"
      ]
     },
     "metadata": {},
     "output_type": "display_data"
    },
    {
     "data": {
      "text/html": [],
      "text/plain": [
       "<IPython.core.display.HTML object>"
      ]
     },
     "metadata": {},
     "output_type": "display_data"
    },
    {
     "data": {
      "text/plain": [
       "SuggestedLRs(slide=0.019054606556892395, valley=0.0008317637839354575)"
      ]
     },
     "execution_count": 24,
     "metadata": {},
     "output_type": "execute_result"
    },
    {
     "data": {
      "image/png": "[encoded data removed]",
      "text/plain": [
       "<Figure size 640x480 with 1 Axes>"
      ]
     },
     "metadata": {},
     "output_type": "display_data"
    }
   ],
   "source": [
    "learner.lr_find(suggest_funcs=(slide,valley))"
   ]
  },
  {
   "cell_type": "markdown",
   "id": "880457eb",
   "metadata": {
    "papermill": {
     "duration": 0.022891,
     "end_time": "2023-07-08T16:02:52.900636",
     "exception": false,
     "start_time": "2023-07-08T16:02:52.877745",
     "status": "completed"
    },
    "tags": []
   },
   "source": [
    "5. The model is trained with a weight decay parameter (wd) for regularization to prevent overfitting. The learning rate corresponding to the slide data point can be used for fine-tuning the model"
   ]
  },
  {
   "cell_type": "code",
   "execution_count": 25,
   "id": "eae975a4",
   "metadata": {
    "execution": {
     "iopub.execute_input": "2023-07-08T16:02:52.946320Z",
     "iopub.status.busy": "2023-07-08T16:02:52.945655Z",
     "iopub.status.idle": "2023-07-08T16:03:19.615352Z",
     "shell.execute_reply": "2023-07-08T16:03:19.614007Z"
    },
    "papermill": {
     "duration": 26.695605,
     "end_time": "2023-07-08T16:03:19.617924",
     "exception": false,
     "start_time": "2023-07-08T16:02:52.922319",
     "status": "completed"
    },
    "tags": []
   },
   "outputs": [
    {
     "data": {
      "text/html": [
       "\n",
       "<style>\n",
       "    /* Turns off some styling */\n",
       "    progress {\n",
       "        /* gets rid of default border in Firefox and Opera. */\n",
       "        border: none;\n",
       "        /* Needs to be in here for Safari polyfill so background images work as expected. */\n",
       "        background-size: auto;\n",
       "    }\n",
       "    progress:not([value]), progress:not([value])::-webkit-progress-bar {\n",
       "        background: repeating-linear-gradient(45deg, #7e7e7e, #7e7e7e 10px, #5c5c5c 10px, #5c5c5c 20px);\n",
       "    }\n",
       "    .progress-bar-interrupted, .progress-bar-interrupted::-webkit-progress-bar {\n",
       "        background: #F44336;\n",
       "    }\n",
       "</style>\n"
      ],
      "text/plain": [
       "<IPython.core.display.HTML object>"
      ]
     },
     "metadata": {},
     "output_type": "display_data"
    },
    {
     "data": {
      "text/html": [
       "<table border=\"1\" class=\"dataframe\">\n",
       "  <thead>\n",
       "    <tr style=\"text-align: left;\">\n",
       "      <th>epoch</th>\n",
       "      <th>train_loss</th>\n",
       "      <th>valid_loss</th>\n",
       "      <th>accuracy</th>\n",
       "      <th>time</th>\n",
       "    </tr>\n",
       "  </thead>\n",
       "  <tbody>\n",
       "    <tr>\n",
       "      <td>0</td>\n",
       "      <td>0.089812</td>\n",
       "      <td>0.025786</td>\n",
       "      <td>0.995240</td>\n",
       "      <td>00:05</td>\n",
       "    </tr>\n",
       "    <tr>\n",
       "      <td>1</td>\n",
       "      <td>0.028731</td>\n",
       "      <td>0.026298</td>\n",
       "      <td>0.994383</td>\n",
       "      <td>00:05</td>\n",
       "    </tr>\n",
       "    <tr>\n",
       "      <td>2</td>\n",
       "      <td>0.017797</td>\n",
       "      <td>0.027229</td>\n",
       "      <td>0.995447</td>\n",
       "      <td>00:05</td>\n",
       "    </tr>\n",
       "    <tr>\n",
       "      <td>3</td>\n",
       "      <td>0.012884</td>\n",
       "      <td>0.026648</td>\n",
       "      <td>0.995358</td>\n",
       "      <td>00:05</td>\n",
       "    </tr>\n",
       "    <tr>\n",
       "      <td>4</td>\n",
       "      <td>0.009604</td>\n",
       "      <td>0.029843</td>\n",
       "      <td>0.995181</td>\n",
       "      <td>00:05</td>\n",
       "    </tr>\n",
       "  </tbody>\n",
       "</table>"
      ],
      "text/plain": [
       "<IPython.core.display.HTML object>"
      ]
     },
     "metadata": {},
     "output_type": "display_data"
    }
   ],
   "source": [
    "learner.fit_one_cycle(5,1e-1,wd=0.1)"
   ]
  },
  {
   "cell_type": "markdown",
   "id": "5837852c",
   "metadata": {
    "papermill": {
     "duration": 0.022486,
     "end_time": "2023-07-08T16:03:19.662274",
     "exception": false,
     "start_time": "2023-07-08T16:03:19.639788",
     "status": "completed"
    },
    "tags": []
   },
   "source": [
    "The model accuracy is much better than that seen with the random forest classifier. Hence, an ensemble of predictions from both the models can also be experimented with"
   ]
  },
  {
   "cell_type": "markdown",
   "id": "0a3a92ec",
   "metadata": {
    "papermill": {
     "duration": 0.020927,
     "end_time": "2023-07-08T16:03:19.704504",
     "exception": false,
     "start_time": "2023-07-08T16:03:19.683577",
     "status": "completed"
    },
    "tags": []
   },
   "source": [
    "# Ensembling predictions from the random forest classifier and the neural network learner along with testing the same on the validation data set"
   ]
  },
  {
   "cell_type": "markdown",
   "id": "0203098e",
   "metadata": {
    "papermill": {
     "duration": 0.021049,
     "end_time": "2023-07-08T16:03:19.747548",
     "exception": false,
     "start_time": "2023-07-08T16:03:19.726499",
     "status": "completed"
    },
    "tags": []
   },
   "source": [
    "1. A new random forest classifier is trained on a similar predictor space as that supplied to the neural network classifier (tabular learner) to ensure that the same validation set can be used for model performance ensembling of both the approaches. The ensemble predictions accuracy of failure likelihood from both the approaches can be determined at this point in time"
   ]
  },
  {
   "cell_type": "code",
   "execution_count": 26,
   "id": "1e0d260a",
   "metadata": {
    "execution": {
     "iopub.execute_input": "2023-07-08T16:03:19.792817Z",
     "iopub.status.busy": "2023-07-08T16:03:19.791620Z",
     "iopub.status.idle": "2023-07-08T16:03:38.948491Z",
     "shell.execute_reply": "2023-07-08T16:03:38.947155Z"
    },
    "papermill": {
     "duration": 19.182308,
     "end_time": "2023-07-08T16:03:38.951140",
     "exception": false,
     "start_time": "2023-07-08T16:03:19.768832",
     "status": "completed"
    },
    "tags": []
   },
   "outputs": [
    {
     "data": {
      "text/html": [
       "\n",
       "<style>\n",
       "    /* Turns off some styling */\n",
       "    progress {\n",
       "        /* gets rid of default border in Firefox and Opera. */\n",
       "        border: none;\n",
       "        /* Needs to be in here for Safari polyfill so background images work as expected. */\n",
       "        background-size: auto;\n",
       "    }\n",
       "    progress:not([value]), progress:not([value])::-webkit-progress-bar {\n",
       "        background: repeating-linear-gradient(45deg, #7e7e7e, #7e7e7e 10px, #5c5c5c 10px, #5c5c5c 20px);\n",
       "    }\n",
       "    .progress-bar-interrupted, .progress-bar-interrupted::-webkit-progress-bar {\n",
       "        background: #F44336;\n",
       "    }\n",
       "</style>\n"
      ],
      "text/plain": [
       "<IPython.core.display.HTML object>"
      ]
     },
     "metadata": {},
     "output_type": "display_data"
    },
    {
     "data": {
      "text/html": [],
      "text/plain": [
       "<IPython.core.display.HTML object>"
      ]
     },
     "metadata": {},
     "output_type": "display_data"
    },
    {
     "data": {
      "text/plain": [
       "0.9952991958372753"
      ]
     },
     "execution_count": 26,
     "metadata": {},
     "output_type": "execute_result"
    }
   ],
   "source": [
    "tp_rf = TabularPandas(train_df_nn,procs=[Categorify],cont_names = cont_nn,cat_names=cat_nn,y_names=dep_var_nn,\n",
    "                     splits=TrainTestSplitter(test_size=0.25,stratify=train_df_nn[dep_var].to_list())(range_of(train_df_nn)),\n",
    "                      ).dataloaders(path=\".\")\n",
    "m_rf = rf(tp_rf.train.xs,tp_rf.train.y)\n",
    "rf_prob = m_rf.predict_proba(tp_rf.valid.xs)\n",
    "tl_probs,_ = learner.get_preds(dl=learner.dls.valid)\n",
    "ensemble_prob = (rf_prob[:,1]+to_np(tl_probs[:,1].squeeze()))/2\n",
    "accuracy_score(learner.dls.valid.y,np.where(ensemble_prob>0.5,1,0))"
   ]
  },
  {
   "cell_type": "markdown",
   "id": "23fbe614",
   "metadata": {
    "papermill": {
     "duration": 0.021439,
     "end_time": "2023-07-08T16:03:38.994242",
     "exception": false,
     "start_time": "2023-07-08T16:03:38.972803",
     "status": "completed"
    },
    "tags": []
   },
   "source": [
    "It can be seen that the accuracy score computed on the validation data set for the ensemble is better than that of the null classifier or that of the individual classifier models"
   ]
  },
  {
   "cell_type": "markdown",
   "id": "23c37880",
   "metadata": {
    "papermill": {
     "duration": 0.021477,
     "end_time": "2023-07-08T16:03:39.037451",
     "exception": false,
     "start_time": "2023-07-08T16:03:39.015974",
     "status": "completed"
    },
    "tags": []
   },
   "source": [
    "# Training the model on the entire training data set"
   ]
  },
  {
   "cell_type": "markdown",
   "id": "c9a2564a",
   "metadata": {
    "papermill": {
     "duration": 0.02157,
     "end_time": "2023-07-08T16:03:39.080586",
     "exception": false,
     "start_time": "2023-07-08T16:03:39.059016",
     "status": "completed"
    },
    "tags": []
   },
   "source": [
    "1. Before being applied on a test/holdout set, the ensemble model that has now been validated for returning the best accuracy can be trained on the entire training dataset"
   ]
  },
  {
   "cell_type": "code",
   "execution_count": 27,
   "id": "e1a6d53d",
   "metadata": {
    "execution": {
     "iopub.execute_input": "2023-07-08T16:03:39.126732Z",
     "iopub.status.busy": "2023-07-08T16:03:39.125404Z",
     "iopub.status.idle": "2023-07-08T16:04:38.623722Z",
     "shell.execute_reply": "2023-07-08T16:04:38.622456Z"
    },
    "papermill": {
     "duration": 59.524144,
     "end_time": "2023-07-08T16:04:38.626449",
     "exception": false,
     "start_time": "2023-07-08T16:03:39.102305",
     "status": "completed"
    },
    "tags": []
   },
   "outputs": [
    {
     "data": {
      "text/html": [
       "\n",
       "<style>\n",
       "    /* Turns off some styling */\n",
       "    progress {\n",
       "        /* gets rid of default border in Firefox and Opera. */\n",
       "        border: none;\n",
       "        /* Needs to be in here for Safari polyfill so background images work as expected. */\n",
       "        background-size: auto;\n",
       "    }\n",
       "    progress:not([value]), progress:not([value])::-webkit-progress-bar {\n",
       "        background: repeating-linear-gradient(45deg, #7e7e7e, #7e7e7e 10px, #5c5c5c 10px, #5c5c5c 20px);\n",
       "    }\n",
       "    .progress-bar-interrupted, .progress-bar-interrupted::-webkit-progress-bar {\n",
       "        background: #F44336;\n",
       "    }\n",
       "</style>\n"
      ],
      "text/plain": [
       "<IPython.core.display.HTML object>"
      ]
     },
     "metadata": {},
     "output_type": "display_data"
    },
    {
     "data": {
      "text/html": [
       "<table border=\"1\" class=\"dataframe\">\n",
       "  <thead>\n",
       "    <tr style=\"text-align: left;\">\n",
       "      <th>epoch</th>\n",
       "      <th>train_loss</th>\n",
       "      <th>valid_loss</th>\n",
       "      <th>time</th>\n",
       "    </tr>\n",
       "  </thead>\n",
       "  <tbody>\n",
       "    <tr>\n",
       "      <td>0</td>\n",
       "      <td>0.061801</td>\n",
       "      <td>None</td>\n",
       "      <td>00:06</td>\n",
       "    </tr>\n",
       "    <tr>\n",
       "      <td>1</td>\n",
       "      <td>0.024558</td>\n",
       "      <td>None</td>\n",
       "      <td>00:06</td>\n",
       "    </tr>\n",
       "    <tr>\n",
       "      <td>2</td>\n",
       "      <td>0.018269</td>\n",
       "      <td>None</td>\n",
       "      <td>00:06</td>\n",
       "    </tr>\n",
       "    <tr>\n",
       "      <td>3</td>\n",
       "      <td>0.014776</td>\n",
       "      <td>None</td>\n",
       "      <td>00:06</td>\n",
       "    </tr>\n",
       "    <tr>\n",
       "      <td>4</td>\n",
       "      <td>0.010805</td>\n",
       "      <td>None</td>\n",
       "      <td>00:06</td>\n",
       "    </tr>\n",
       "  </tbody>\n",
       "</table>"
      ],
      "text/plain": [
       "<IPython.core.display.HTML object>"
      ]
     },
     "metadata": {},
     "output_type": "display_data"
    },
    {
     "name": "stderr",
     "output_type": "stream",
     "text": [
      "/opt/conda/lib/python3.10/site-packages/fastprogress/fastprogress.py:73: UserWarning: Your generator is empty.\n",
      "  warn(\"Your generator is empty.\")\n",
      "/opt/conda/lib/python3.10/site-packages/fastprogress/fastprogress.py:73: UserWarning: Your generator is empty.\n",
      "  warn(\"Your generator is empty.\")\n",
      "/opt/conda/lib/python3.10/site-packages/fastprogress/fastprogress.py:73: UserWarning: Your generator is empty.\n",
      "  warn(\"Your generator is empty.\")\n",
      "/opt/conda/lib/python3.10/site-packages/fastprogress/fastprogress.py:73: UserWarning: Your generator is empty.\n",
      "  warn(\"Your generator is empty.\")\n",
      "/opt/conda/lib/python3.10/site-packages/fastprogress/fastprogress.py:73: UserWarning: Your generator is empty.\n",
      "  warn(\"Your generator is empty.\")\n"
     ]
    }
   ],
   "source": [
    "tp_full_rf = TabularPandas(train_df_nn,procs=[Categorify],cont_names = cont_nn,cat_names=cat_nn,y_names=dep_var_nn,\n",
    "                     splits=MaskSplitter([False]*train_df_nn.shape[0])(range_of(train_df_nn))).dataloaders(path='.')\n",
    "tp_full_nn = TabularPandas(train_df_nn,procs=[Categorify,Normalize],cont_names = cont_nn,cat_names=cat_nn,y_names=dep_var_nn,\n",
    "                     splits=MaskSplitter([False]*train_df_nn.shape[0])(range_of(train_df_nn)),\n",
    "                      y_block=CategoryBlock()).dataloaders(bs=1024,path=\".\")\n",
    "rf_full = rf(tp_full_rf.train.xs,tp_full_rf.train.y)\n",
    "learner_full = tabular_learner(tp_full_nn,layers=[256,128])\n",
    "learner_full.fit_one_cycle(5,1e-1,wd=0.1)"
   ]
  },
  {
   "cell_type": "markdown",
   "id": "d2988013",
   "metadata": {
    "papermill": {
     "duration": 0.022347,
     "end_time": "2023-07-08T16:04:38.671675",
     "exception": false,
     "start_time": "2023-07-08T16:04:38.649328",
     "status": "completed"
    },
    "tags": []
   },
   "source": [
    "2. A method like the one shown below can be used to apply the latest fine-tuned model on a test/holdout data set and return a data frame of the likelihood predictions"
   ]
  },
  {
   "cell_type": "code",
   "execution_count": 28,
   "id": "e1c06028",
   "metadata": {
    "execution": {
     "iopub.execute_input": "2023-07-08T16:04:38.720235Z",
     "iopub.status.busy": "2023-07-08T16:04:38.719746Z",
     "iopub.status.idle": "2023-07-08T16:04:38.728030Z",
     "shell.execute_reply": "2023-07-08T16:04:38.726836Z"
    },
    "papermill": {
     "duration": 0.03581,
     "end_time": "2023-07-08T16:04:38.730478",
     "exception": false,
     "start_time": "2023-07-08T16:04:38.694668",
     "status": "completed"
    },
    "tags": []
   },
   "outputs": [],
   "source": [
    "def create_submission_ensemble(rf_m,rf_tp,learner):\n",
    "    final_test_df = pd.read_csv(path/'test.csv',low_memory=False)\n",
    "    test_dls_nn = learner.dls.test_dl(test_df_nn)\n",
    "    preds_nn,_ = learner.get_preds(dl=test_dls_nn)\n",
    "    test_dls_rf = rf_tp.test_dl(test_df_nn)\n",
    "    preds_rf = rf_m.predict_proba(test_dls_rf.xs)\n",
    "    ensemble_pred = (preds_rf[:,1] + to_np(preds_nn[:,1].squeeze()))/2\n",
    "    final_test_df['Machine failure'] = ensemble_pred\n",
    "    subm = final_test_df[['id','Machine failure']]\n",
    "    return subm"
   ]
  }
 ],
 "metadata": {
  "kernelspec": {
   "display_name": "Python 3",
   "language": "python",
   "name": "python3"
  },
  "language_info": {
   "codemirror_mode": {
    "name": "ipython",
    "version": 3
   },
   "file_extension": ".py",
   "mimetype": "text/x-python",
   "name": "python",
   "nbconvert_exporter": "python",
   "pygments_lexer": "ipython3",
   "version": "3.10.10"
  },
  "papermill": {
   "default_parameters": {},
   "duration": 176.412917,
   "end_time": "2023-07-08T16:04:40.478702",
   "environment_variables": {},
   "exception": null,
   "input_path": "__notebook__.ipynb",
   "output_path": "__notebook__.ipynb",
   "parameters": {},
   "start_time": "2023-07-08T16:01:44.065785",
   "version": "2.4.0"
  }
 },
 "nbformat": 4,
 "nbformat_minor": 5
}
